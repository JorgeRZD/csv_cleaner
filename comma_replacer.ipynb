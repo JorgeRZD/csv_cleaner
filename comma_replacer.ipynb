{
 "cells": [
  {
   "cell_type": "markdown",
   "metadata": {},
   "source": [
    "# Comma replacing function\n",
    "Función de remplazo de commas por un nuevo delimitador en archivos csv.\n",
    "Definir como strings la ubicación de entrada de los archivos csv (`input_path`), la ubicación de salida (`output_path`) y el carácter que será usado como nuevo delimitador de campos (`new_dem`)."
   ]
  },
  {
   "cell_type": "code",
   "execution_count": 9,
   "metadata": {},
   "outputs": [],
   "source": [
    "#Carpeta de los archivos csv separados con \",\"\n",
    "input_path = \""\n",
    "#Carpeta de salida de archivos separados con \"|\"\n",
    "output_path = \""\n",
    "#Nuevo delimitador\n",
    "new_dem = '|'"
   ]
  },
  {
   "cell_type": "code",
   "execution_count": 10,
   "metadata": {},
   "outputs": [],
   "source": [
    "def comma_replacer(input_path, output_path, input_file):\n",
    "    print(f'++ Archivo a procesar: {input_file}.csv ++')\n",
    "    import csv\n",
    "    with open(input_path+input_file+'.csv', encoding='utf-8') as reader_file:\n",
    "        csv_content = csv.reader(reader_file, delimiter=',', dialect = 'excel')\n",
    "        with open(output_path+input_file+'.csv', mode = 'w', newline='', encoding='utf-8') as output_writer:\n",
    "            writer = csv.writer(output_writer, delimiter = new_dem,lineterminator='\\n')\n",
    "            writer.writerows(csv_content)"
   ]
  },
  {
   "cell_type": "code",
   "execution_count": 11,
   "metadata": {},
   "outputs": [],
   "source": [
    "def files_prep(inputs_path):\n",
    "    import os\n",
    "    files_list = [item.replace('.csv','') for item in os.listdir(inputs_path)]\n",
    "    for i in files_list:\n",
    "        comma_replacer(input_path, output_path, i)\n",
    "    print(\"++++ Archivos procesados. Favor de validar ++++\")"
   ]
  },
  {
   "cell_type": "code",
   "execution_count": 12,
   "metadata": {},
   "outputs": [
    {
     "name": "stdout",
     "output_type": "stream",
     "text": [
      "++++ Archivo a procesar: test_data.csv ++++\n",
      "++++ Archivo a procesar: test_data_1.csv ++++\n",
      "++++ Archivo a procesar: test_data_2.csv ++++\n"
     ]
    }
   ],
   "source": [
    "files_prep(input_path)"
   ]
  }
 ],
 "metadata": {
  "kernelspec": {
   "display_name": "Python 3",
   "language": "python",
   "name": "python3"
  },
  "language_info": {
   "codemirror_mode": {
    "name": "ipython",
    "version": 3
   },
   "file_extension": ".py",
   "mimetype": "text/x-python",
   "name": "python",
   "nbconvert_exporter": "python",
   "pygments_lexer": "ipython3",
   "version": "3.11.0"
  }
 },
 "nbformat": 4,
 "nbformat_minor": 2
}
